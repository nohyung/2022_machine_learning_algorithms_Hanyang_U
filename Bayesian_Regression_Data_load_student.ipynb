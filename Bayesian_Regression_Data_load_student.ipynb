{
 "cells": [
  {
   "cell_type": "markdown",
   "id": "4e146883",
   "metadata": {},
   "source": [
    "## Data load\n",
    "\n",
    "Machine Learning Algorithms\n",
    "\n",
    "Dates: 2022-4-8\n",
    "\n",
    "Author: Yung-Kyun Noh\n",
    "\n",
    "Department of Computer Science, Hanyang University & KIAS\n"
   ]
  },
  {
   "cell_type": "code",
   "execution_count": null,
   "id": "09e529d2",
   "metadata": {},
   "outputs": [],
   "source": [
    "# !pip install lifelines  # colab\n",
    "# !pip install pickle5 # colab"
   ]
  },
  {
   "cell_type": "markdown",
   "id": "a5fbc326",
   "metadata": {},
   "source": [
    "## Regression dataset #1"
   ]
  },
  {
   "cell_type": "code",
   "execution_count": 1,
   "id": "7a1685fd",
   "metadata": {},
   "outputs": [],
   "source": [
    "import pickle\n",
    "# import pickle5 as pickle # colab\n",
    "import numpy as np\n",
    "from lifelines.utils import concordance_index\n",
    "# import urllib\n",
    "import urllib.request\n"
   ]
  },
  {
   "cell_type": "code",
   "execution_count": 2,
   "id": "192603de",
   "metadata": {},
   "outputs": [],
   "source": [
    "# with open('Regression_Dataset1', 'rb') as handle:\n",
    "#     data = pickle.load(handle)\n",
    "#     y = pickle.load(handle)\n",
    "#     testdata = pickle.load(handle)\n",
    "#     testy = pickle.load(handle)\n",
    "\n",
    "target_url = 'http://aais.hanyang.ac.kr/classes/2022_Datasets/Regression_Dataset1'\n",
    "with urllib.request.urlopen(target_url) as handle:\n",
    "    data = pickle.load(handle)\n",
    "    y = pickle.load(handle)\n",
    "    testdata = pickle.load(handle)\n",
    "    testy = pickle.load(handle)\n"
   ]
  },
  {
   "cell_type": "code",
   "execution_count": null,
   "id": "ac050980",
   "metadata": {},
   "outputs": [],
   "source": [
    "XXT = np.matmul(data.T, data)\n",
    "Xy = np.matmul(data.T, y)\n",
    "\n",
    "sigma_sq = 1\n",
    "sigma_sq0 = 5\n",
    "invXXT = np.linalg.inv(XXT + sigma_sq/sigma_sq0*np.eye(len(XXT)))\n"
   ]
  },
  {
   "cell_type": "code",
   "execution_count": null,
   "id": "e9530da3",
   "metadata": {},
   "outputs": [],
   "source": [
    "pred_y = np.matmul(data, np.matmul(invXXT, Xy))\n",
    "print(y, '\\n', pred_y)\n",
    "print('CI:', concordance_index(y, pred_y))\n",
    "print('\\n')\n",
    "\n",
    "pred_y = np.matmul(testdata, np.matmul(invXXT, Xy))\n",
    "print(testy, '\\n', pred_y)\n",
    "print('test CI:', concordance_index(testy, pred_y))\n"
   ]
  },
  {
   "cell_type": "code",
   "execution_count": null,
   "id": "aac3c5ee",
   "metadata": {},
   "outputs": [],
   "source": [
    "# Variance\n",
    "# testnum = len(testdata)\n",
    "testnum = 5\n",
    "test_vars = np.zeros(testnum)\n",
    "\n",
    "for itest in range(testnum):\n",
    "    X = np.concatenate([testdata[itest].reshape([1,-1]), data])\n",
    "    XXT = np.matmul(X.T, X)\n",
    "    invXXT = np.linalg.inv(XXT + sigma_sq/sigma_sq0*np.eye(len(XXT)))\n",
    "    test_vars[itest] = sigma_sq/ \\\n",
    "        (1 - np.matmul(testdata[itest], np.matmul(invXXT, testdata[itest])))\n",
    "print(test_vars[0:testnum])\n"
   ]
  },
  {
   "cell_type": "code",
   "execution_count": null,
   "id": "a4520b6c",
   "metadata": {},
   "outputs": [],
   "source": []
  },
  {
   "cell_type": "markdown",
   "id": "84ce6106",
   "metadata": {},
   "source": [
    "## Regression dataset #2"
   ]
  },
  {
   "cell_type": "code",
   "execution_count": null,
   "id": "b26bc94a",
   "metadata": {},
   "outputs": [],
   "source": [
    "# with open('Regression_Dataset2', 'rb') as handle:\n",
    "#     data = pickle.load(handle)\n",
    "#     y = pickle.load(handle)\n",
    "#     testdata = pickle.load(handle)\n",
    "#     testy = pickle.load(handle)\n",
    "\n",
    "target_url = 'http://aais.hanyang.ac.kr/classes/2022_Datasets/Regression_Dataset2'\n",
    "with urllib.request.urlopen(target_url) as handle:\n",
    "    data = pickle.load(handle)\n",
    "    y = pickle.load(handle)\n",
    "    testdata = pickle.load(handle)\n",
    "    testy = pickle.load(handle)"
   ]
  },
  {
   "cell_type": "code",
   "execution_count": null,
   "id": "934f2f47",
   "metadata": {},
   "outputs": [],
   "source": [
    "XXT = np.matmul(data.T, data)\n",
    "Xy = np.matmul(data.T, y)\n",
    "\n",
    "sigma_sq = 10000\n",
    "sigma_sq0 = 100\n",
    "invXXT = np.linalg.inv(XXT + sigma_sq/sigma_sq0*np.eye(len(XXT)))\n"
   ]
  },
  {
   "cell_type": "code",
   "execution_count": null,
   "id": "2f012406",
   "metadata": {},
   "outputs": [],
   "source": [
    "pred_y = np.matmul(data, np.matmul(invXXT, Xy))\n",
    "print(y.T, '\\n', np.floor(pred_y.T))\n",
    "print('CI:', concordance_index(y, pred_y))\n",
    "print('\\n')\n",
    "\n",
    "pred_y = np.matmul(testdata, np.matmul(invXXT, Xy))\n",
    "print('test prediction:')\n",
    "print(testy[0:10].T, '\\n', np.floor(pred_y[0:10].T))\n",
    "print('CI:', concordance_index(testy, pred_y))\n"
   ]
  },
  {
   "cell_type": "code",
   "execution_count": null,
   "id": "a63c5903",
   "metadata": {},
   "outputs": [],
   "source": [
    "num = len(data)\n",
    "# num = 5\n",
    "vars = np.zeros(num)\n",
    "\n",
    "for i in range(num):\n",
    "    X = np.concatenate([data[i].reshape([1,-1]), data])\n",
    "    XXT = np.matmul(X.T, X)\n",
    "    invXXT = np.linalg.inv(XXT + sigma_sq/sigma_sq0*np.eye(len(XXT)))\n",
    "    vars[i] = sigma_sq/ \\\n",
    "        (1 - np.matmul(data[i], np.matmul(invXXT, data[i])))\n",
    "print(vars[0:num])"
   ]
  },
  {
   "cell_type": "code",
   "execution_count": null,
   "id": "e4c5eb06",
   "metadata": {},
   "outputs": [],
   "source": [
    "\n",
    "testnum = len(testdata)\n",
    "test_vars = np.zeros(testnum)\n",
    "\n",
    "for itest in range(testnum):\n",
    "    X = np.concatenate([testdata[itest].reshape([1,-1]), data])\n",
    "    XXT = np.matmul(X.T, X)\n",
    "    invXXT = np.linalg.inv(XXT + sigma_sq/sigma_sq0*np.eye(len(XXT)))\n",
    "    test_vars[itest] = sigma_sq/ \\\n",
    "        (1 - np.matmul(testdata[itest], np.matmul(invXXT, testdata[itest])))\n",
    "print(test_vars[0:testnum])"
   ]
  },
  {
   "cell_type": "code",
   "execution_count": null,
   "id": "5970d940",
   "metadata": {},
   "outputs": [],
   "source": []
  },
  {
   "cell_type": "code",
   "execution_count": null,
   "id": "42ec60a2",
   "metadata": {},
   "outputs": [],
   "source": []
  }
 ],
 "metadata": {
  "kernelspec": {
   "display_name": "Python 3",
   "language": "python",
   "name": "python3"
  },
  "language_info": {
   "codemirror_mode": {
    "name": "ipython",
    "version": 3
   },
   "file_extension": ".py",
   "mimetype": "text/x-python",
   "name": "python",
   "nbconvert_exporter": "python",
   "pygments_lexer": "ipython3",
   "version": "3.8.8"
  }
 },
 "nbformat": 4,
 "nbformat_minor": 5
}
