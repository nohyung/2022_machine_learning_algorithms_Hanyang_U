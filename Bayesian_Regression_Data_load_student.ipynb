{
 "cells": [
  {
   "cell_type": "markdown",
   "id": "4e146883",
   "metadata": {},
   "source": [
    "## Data load\n",
    "\n",
    "Machine Learning Algorithms\n",
    "\n",
    "Dates: 2022-4-8\n",
    "\n",
    "Author: Yung-Kyun Noh\n",
    "\n",
    "Department of Computer Science, Hanyang University & KIAS\n"
   ]
  },
  {
   "cell_type": "markdown",
   "id": "a5fbc326",
   "metadata": {},
   "source": [
    "## Regression dataset #1"
   ]
  },
  {
   "cell_type": "code",
   "execution_count": 1,
   "id": "7a1685fd",
   "metadata": {},
   "outputs": [],
   "source": [
    "import pickle\n",
    "import numpy as np\n",
    "from lifelines.utils import concordance_index\n",
    "import urllib\n"
   ]
  },
  {
   "cell_type": "code",
   "execution_count": 2,
   "id": "192603de",
   "metadata": {},
   "outputs": [],
   "source": [
    "# with open('Regression_Dataset1', 'rb') as handle:\n",
    "#     data = pickle.load(handle)\n",
    "#     y = pickle.load(handle)\n",
    "#     testdata = pickle.load(handle)\n",
    "#     testy = pickle.load(handle)\n",
    "\n",
    "target_url = 'http://aais.hanyang.ac.kr/classes/2022_Datasets/Regression_Dataset1'\n",
    "with urllib.request.urlopen(target_url) as handle:\n",
    "    data = pickle.load(handle)\n",
    "    y = pickle.load(handle)\n",
    "    testdata = pickle.load(handle)\n",
    "    testy = pickle.load(handle)\n"
   ]
  },
  {
   "cell_type": "code",
   "execution_count": 3,
   "id": "ac050980",
   "metadata": {},
   "outputs": [],
   "source": [
    "XXT = np.matmul(data.T, data)\n",
    "Xy = np.matmul(data.T, y)\n",
    "\n",
    "sigma_sq = 1\n",
    "sigma_sq0 = 5\n",
    "invXXT = np.linalg.inv(XXT + sigma_sq/sigma_sq0*np.eye(len(XXT)))\n"
   ]
  },
  {
   "cell_type": "code",
   "execution_count": 4,
   "id": "e9530da3",
   "metadata": {},
   "outputs": [
    {
     "name": "stdout",
     "output_type": "stream",
     "text": [
      "[2 4 1 ... 8 7 6] \n",
      " [3.21280851 2.877127   1.96875164 ... 4.68229121 7.19685805 4.59707267]\n",
      "CI: 0.8290274047762353\n",
      "\n",
      "\n",
      "[5 0 9 ... 3 1 6] \n",
      " [5.67676888 2.0197942  7.1502184  ... 4.51212968 1.83149875 4.14558866]\n",
      "test CI: 0.8265978241005745\n"
     ]
    }
   ],
   "source": [
    "pred_y = np.matmul(data, np.matmul(invXXT, Xy))\n",
    "print(y, '\\n', pred_y)\n",
    "print('CI:', concordance_index(y, pred_y))\n",
    "print('\\n')\n",
    "\n",
    "pred_y = np.matmul(testdata, np.matmul(invXXT, Xy))\n",
    "print(testy, '\\n', pred_y)\n",
    "print('test CI:', concordance_index(testy, pred_y))\n"
   ]
  },
  {
   "cell_type": "code",
   "execution_count": 5,
   "id": "aac3c5ee",
   "metadata": {},
   "outputs": [
    {
     "name": "stdout",
     "output_type": "stream",
     "text": [
      "[1.03123976 1.01262719 1.01086518 1.01522543 1.00760819]\n"
     ]
    }
   ],
   "source": [
    "# Variance\n",
    "# testnum = len(testdata)\n",
    "testnum = 5\n",
    "test_vars = np.zeros(testnum)\n",
    "\n",
    "for itest in range(testnum):\n",
    "    X = np.concatenate([testdata[itest].reshape([1,-1]), data])\n",
    "    XXT = np.matmul(X.T, X)\n",
    "    invXXT = np.linalg.inv(XXT + sigma_sq/sigma_sq0*np.eye(len(XXT)))\n",
    "    test_vars[itest] = sigma_sq/ \\\n",
    "        (1 - np.matmul(testdata[itest], np.matmul(invXXT, testdata[itest])))\n",
    "print(test_vars[0:testnum])\n"
   ]
  },
  {
   "cell_type": "code",
   "execution_count": null,
   "id": "a4520b6c",
   "metadata": {},
   "outputs": [],
   "source": []
  },
  {
   "cell_type": "markdown",
   "id": "84ce6106",
   "metadata": {},
   "source": [
    "## Regression dataset #2"
   ]
  },
  {
   "cell_type": "code",
   "execution_count": 6,
   "id": "b26bc94a",
   "metadata": {},
   "outputs": [],
   "source": [
    "# with open('Regression_Dataset2', 'rb') as handle:\n",
    "#     data = pickle.load(handle)\n",
    "#     y = pickle.load(handle)\n",
    "#     testdata = pickle.load(handle)\n",
    "#     testy = pickle.load(handle)\n",
    "\n",
    "target_url = 'http://aais.hanyang.ac.kr/classes/2022_Datasets/Regression_Dataset2'\n",
    "with urllib.request.urlopen(target_url) as handle:\n",
    "    data = pickle.load(handle)\n",
    "    y = pickle.load(handle)\n",
    "    testdata = pickle.load(handle)\n",
    "    testy = pickle.load(handle)"
   ]
  },
  {
   "cell_type": "code",
   "execution_count": 7,
   "id": "934f2f47",
   "metadata": {},
   "outputs": [],
   "source": [
    "XXT = np.matmul(data.T, data)\n",
    "Xy = np.matmul(data.T, y)\n",
    "\n",
    "sigma_sq = 10000\n",
    "sigma_sq0 = 100\n",
    "invXXT = np.linalg.inv(XXT + sigma_sq/sigma_sq0*np.eye(len(XXT)))\n"
   ]
  },
  {
   "cell_type": "code",
   "execution_count": 8,
   "id": "2f012406",
   "metadata": {},
   "outputs": [
    {
     "name": "stdout",
     "output_type": "stream",
     "text": [
      "[[190000 214000 174500 ... 212000 139000 181000]] \n",
      " [[197540. 195827. 176544. ... 218326. 101610. 158389.]]\n",
      "CI: 0.8593857558909187\n",
      "\n",
      "\n",
      "test prediction:\n",
      "[[122000 138500 145000 169000 162900 105000 147000 179600 142500 203000]] \n",
      " [[70239500. 31493347. 34072926. 72821997. 49692925. 36252314. 53620118.\n",
      "  42529231. 34177254. 38148129.]]\n",
      "CI: 0.7424007859715979\n"
     ]
    }
   ],
   "source": [
    "pred_y = np.matmul(data, np.matmul(invXXT, Xy))\n",
    "print(y.T, '\\n', np.floor(pred_y.T))\n",
    "print('CI:', concordance_index(y, pred_y))\n",
    "print('\\n')\n",
    "\n",
    "pred_y = np.matmul(testdata, np.matmul(invXXT, Xy))\n",
    "print('test prediction:')\n",
    "print(testy[0:10].T, '\\n', np.floor(pred_y[0:10].T))\n",
    "print('CI:', concordance_index(testy, pred_y))\n"
   ]
  },
  {
   "cell_type": "code",
   "execution_count": 9,
   "id": "a63c5903",
   "metadata": {},
   "outputs": [
    {
     "name": "stdout",
     "output_type": "stream",
     "text": [
      "[10018.7232647  10011.96975628 10032.83894465 ... 10029.91047951\n",
      " 10016.87946753 10011.2242802 ]\n"
     ]
    }
   ],
   "source": [
    "num = len(data)\n",
    "# num = 5\n",
    "vars = np.zeros(num)\n",
    "\n",
    "for i in range(num):\n",
    "    X = np.concatenate([data[i].reshape([1,-1]), data])\n",
    "    XXT = np.matmul(X.T, X)\n",
    "    invXXT = np.linalg.inv(XXT + sigma_sq/sigma_sq0*np.eye(len(XXT)))\n",
    "    vars[i] = sigma_sq/ \\\n",
    "        (1 - np.matmul(data[i], np.matmul(invXXT, data[i])))\n",
    "print(vars[0:num])"
   ]
  },
  {
   "cell_type": "code",
   "execution_count": 10,
   "id": "e4c5eb06",
   "metadata": {},
   "outputs": [
    {
     "name": "stdout",
     "output_type": "stream",
     "text": [
      "[6.42579150e+07 1.27778074e+07 1.49442536e+07 6.92453791e+07\n",
      " 3.19662716e+07 1.70367526e+07 3.71806863e+07 2.33305662e+07\n",
      " 1.50179788e+07 1.87181844e+07 3.34031182e+07 1.24932736e+07\n",
      " 3.49391759e+07 2.78367401e+07 1.28109141e+07 4.27124884e+07\n",
      " 3.93826322e+07 6.32922430e+07 1.53916635e+07 2.97312889e+07\n",
      " 1.04511871e+07 3.07464772e+07 2.57580088e+07 4.46144934e+07\n",
      " 2.12624276e+07 1.03825908e+07 1.71290800e+07 8.28452323e+06\n",
      " 3.92886606e+07 6.06725656e+07 6.50857524e+07 3.99984781e+07\n",
      " 4.69934712e+07 7.45707999e+06 1.27291961e+07 1.34131783e+07\n",
      " 2.89862072e+07 2.68049077e+07 1.46884941e+07 5.22713625e+07\n",
      " 8.61362067e+06 1.46363688e+07 2.59587542e+07 8.62238190e+06\n",
      " 3.06710282e+07 3.43572532e+07 8.96125996e+07 3.40165286e+07\n",
      " 1.46999771e+07 4.12219179e+07 8.02352485e+07 5.27588826e+07\n",
      " 2.18273474e+07 1.53212290e+07 8.00955646e+06 8.28452323e+06\n",
      " 3.63961602e+07 1.13093680e+07 5.14379459e+07 4.25791139e+07\n",
      " 1.56728250e+07 9.12674707e+07 2.80555650e+07 4.64611210e+07\n",
      " 2.68430044e+07 4.97182140e+07 2.57801465e+07 1.21213822e+08\n",
      " 7.37933650e+07 2.31625030e+07 3.17956344e+07 1.82231999e+07\n",
      " 2.56199984e+07 1.43142523e+07 1.62953652e+07 1.32640345e+07\n",
      " 2.87185365e+07 1.90102365e+07 2.09945765e+07 3.94595341e+07\n",
      " 4.30852278e+07 1.12354049e+07 1.08257947e+07 4.22882083e+07\n",
      " 3.71010543e+07 4.17832481e+07 8.61766526e+06 7.54873119e+07\n",
      " 1.93118096e+07 4.31693114e+07 5.08051474e+07 2.51426261e+07\n",
      " 1.73120108e+07 7.37183606e+07 6.79963335e+06 3.12604956e+07\n",
      " 5.21320994e+06 1.51141521e+07 1.79337848e+07 9.59469090e+06\n",
      " 5.18018913e+07 2.47103098e+07 3.69801586e+07 4.96683288e+07\n",
      " 2.53986209e+07 3.58495451e+07 2.85757051e+07 9.01574616e+07\n",
      " 2.15888407e+07 3.18755341e+07 2.31480896e+07 1.82685809e+07\n",
      " 2.62467724e+07 5.59996687e+07 4.03194646e+07 7.68171244e+06\n",
      " 1.63008873e+07 6.93427057e+07 3.60945285e+07 2.89202755e+07\n",
      " 2.39407944e+07 3.69999403e+07 8.81449026e+06 7.94079753e+07\n",
      " 7.11687684e+07 1.37386502e+08 3.43349107e+07 3.16590978e+07\n",
      " 4.38320551e+07 1.54751287e+07 1.80886078e+07 4.55872840e+07\n",
      " 4.19189686e+07 2.64564423e+07 5.06112282e+07 5.79065295e+06\n",
      " 6.92940923e+06 3.05204082e+07 1.00899898e+07 7.32096113e+06\n",
      " 9.59893434e+06 3.36822450e+07 1.59553665e+07 9.22318326e+06\n",
      " 1.06474005e+07 4.52367544e+07 2.15218123e+07 5.15571810e+07\n",
      " 2.03557336e+07 8.63117028e+06 1.71177129e+07 9.34759916e+06\n",
      " 2.14725963e+07 8.61837155e+06 8.28452323e+06 2.10857544e+07\n",
      " 1.05791406e+07 2.85597065e+07 3.21034678e+07 2.08700023e+07\n",
      " 3.24081040e+07 2.65433690e+07 7.68998075e+06 3.14725289e+07\n",
      " 1.15209367e+07 3.16928268e+07 1.23235490e+07 3.67965384e+07\n",
      " 3.51567401e+07 3.17572596e+07 2.06813661e+07 4.01622303e+07\n",
      " 2.56006898e+07 2.72806715e+07 5.99270436e+06 2.93081487e+07\n",
      " 2.44618846e+07 9.18189673e+06 2.15774692e+07 2.84637367e+07\n",
      " 4.48000555e+07 1.33136564e+07 1.80434634e+07 2.06330752e+07\n",
      " 2.09459540e+07 3.71359933e+07 5.54771108e+06 8.00521068e+07\n",
      " 2.90845066e+07 3.54252841e+07 1.50138156e+07 2.27749553e+07\n",
      " 2.13705243e+07 3.23523251e+07 3.68493396e+07 4.57795966e+06\n",
      " 2.98710447e+07 1.71899184e+07 4.54237868e+07 3.68305479e+08\n",
      " 1.31789256e+07 2.24473599e+07 2.24654252e+07 1.34181908e+07\n",
      " 4.42748508e+07 5.37085338e+07 4.89512349e+07 1.24826943e+07\n",
      " 7.82594380e+07 3.90994174e+07 2.68401637e+07 2.43273975e+07\n",
      " 4.22439485e+07 7.19125329e+06 3.21451456e+07 8.60959961e+06\n",
      " 5.42587672e+07 3.65458320e+07 1.95843643e+07 2.30238407e+07\n",
      " 1.32531537e+07 3.84568383e+07 1.28860409e+07 5.43370191e+07\n",
      " 1.03825908e+07 3.13320590e+07 2.52232157e+07 3.06468930e+07\n",
      " 3.92511246e+07 1.99013948e+07 2.70167909e+07 7.80208625e+07\n",
      " 4.26182652e+07 4.76322318e+07 8.77090263e+06 5.04447516e+07\n",
      " 3.29279103e+07 5.57126368e+07 9.61079233e+06 3.33842148e+07\n",
      " 1.63503647e+07 3.28920256e+07 1.93249430e+07 3.90517928e+07\n",
      " 1.69390859e+07 1.58620155e+07 9.61244474e+06 1.45323965e+07\n",
      " 2.30172702e+07 3.01379781e+07 2.84070864e+07 3.84398561e+07\n",
      " 1.66023895e+07 1.12682359e+07 3.93313442e+07 4.18026253e+07\n",
      " 1.05004549e+07 1.06474005e+07 1.76283782e+07 2.05404194e+07]\n"
     ]
    }
   ],
   "source": [
    "\n",
    "testnum = len(testdata)\n",
    "test_vars = np.zeros(testnum)\n",
    "\n",
    "for itest in range(testnum):\n",
    "    X = np.concatenate([testdata[itest].reshape([1,-1]), data])\n",
    "    XXT = np.matmul(X.T, X)\n",
    "    invXXT = np.linalg.inv(XXT + sigma_sq/sigma_sq0*np.eye(len(XXT)))\n",
    "    test_vars[itest] = sigma_sq/ \\\n",
    "        (1 - np.matmul(testdata[itest], np.matmul(invXXT, testdata[itest])))\n",
    "print(test_vars[0:testnum])"
   ]
  },
  {
   "cell_type": "code",
   "execution_count": null,
   "id": "5970d940",
   "metadata": {},
   "outputs": [],
   "source": []
  },
  {
   "cell_type": "code",
   "execution_count": null,
   "id": "42ec60a2",
   "metadata": {},
   "outputs": [],
   "source": []
  }
 ],
 "metadata": {
  "kernelspec": {
   "display_name": "Python 3",
   "language": "python",
   "name": "python3"
  },
  "language_info": {
   "codemirror_mode": {
    "name": "ipython",
    "version": 3
   },
   "file_extension": ".py",
   "mimetype": "text/x-python",
   "name": "python",
   "nbconvert_exporter": "python",
   "pygments_lexer": "ipython3",
   "version": "3.8.8"
  }
 },
 "nbformat": 4,
 "nbformat_minor": 5
}
