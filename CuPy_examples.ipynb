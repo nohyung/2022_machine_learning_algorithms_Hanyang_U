{
  "nbformat": 4,
  "nbformat_minor": 0,
  "metadata": {
    "colab": {
      "name": "CuPy_examples.ipynb",
      "provenance": [],
      "collapsed_sections": [],
      "authorship_tag": "ABX9TyNAhyOa4sD+6POGZ/5MAkKv",
      "include_colab_link": true
    },
    "kernelspec": {
      "name": "python3",
      "display_name": "Python 3"
    },
    "language_info": {
      "name": "python"
    },
    "accelerator": "GPU"
  },
  "cells": [
    {
      "cell_type": "markdown",
      "metadata": {
        "id": "view-in-github",
        "colab_type": "text"
      },
      "source": [
        "<a href=\"https://colab.research.google.com/github/nohyung/2022_machine_learning_algorithms_Hanyang_U/blob/main/CuPy_examples.ipynb\" target=\"_parent\"><img src=\"https://colab.research.google.com/assets/colab-badge.svg\" alt=\"Open In Colab\"/></a>"
      ]
    },
    {
      "cell_type": "code",
      "execution_count": 1,
      "metadata": {
        "id": "mEk4s6CmFADx"
      },
      "outputs": [],
      "source": [
        "import numpy as np\n",
        "import cupy as cp\n",
        "import time"
      ]
    },
    {
      "cell_type": "code",
      "source": [
        "n = 10**4\n",
        "### Numpy and CPU\n",
        "s = time.time()\n",
        "x_cpu = np.ones((n,n))\n",
        "e = time.time()\n",
        "print('cpu:', e - s, 's')\n",
        "### CuPy and GPU\n",
        "s = time.time()\n",
        "x_gpu = cp.ones((n,n))\n",
        "cp.cuda.Stream.null.synchronize()\n",
        "e = time.time()\n",
        "print('gpu:', e - s, 's')"
      ],
      "metadata": {
        "colab": {
          "base_uri": "https://localhost:8080/"
        },
        "id": "FSigvpKtFHpg",
        "outputId": "d9cde769-91f5-418d-9453-61ec75260727"
      },
      "execution_count": 4,
      "outputs": [
        {
          "output_type": "stream",
          "name": "stdout",
          "text": [
            "cpu: 0.19355559349060059 s\n",
            "gpu: 0.005060911178588867 s\n"
          ]
        }
      ]
    },
    {
      "cell_type": "code",
      "source": [
        "### Numpy and CPU\n",
        "s = time.time()\n",
        "x_cpu *= 5\n",
        "e = time.time()\n",
        "print('cpu:', e - s, 's')\n",
        "### CuPy and GPU\n",
        "s = time.time()\n",
        "x_gpu *= 5\n",
        "cp.cuda.Stream.null.synchronize()\n",
        "e = time.time()\n",
        "print('gpu:', e - s, 's')"
      ],
      "metadata": {
        "colab": {
          "base_uri": "https://localhost:8080/"
        },
        "id": "aNauX6geFLmJ",
        "outputId": "2a75dd83-b12c-42d1-84e8-4141421031c4"
      },
      "execution_count": 5,
      "outputs": [
        {
          "output_type": "stream",
          "name": "stdout",
          "text": [
            "cpu: 0.07232856750488281 s\n",
            "gpu: 0.006502866744995117 s\n"
          ]
        }
      ]
    },
    {
      "cell_type": "code",
      "source": [
        "### Numpy and CPU\n",
        "s = time.time()\n",
        "x_cpu *= 5\n",
        "x_cpu *= x_cpu\n",
        "x_cpu += x_cpu\n",
        "e = time.time()\n",
        "print('cpu:', e - s, 's')\n",
        "### CuPy and GPU\n",
        "s = time.time()\n",
        "x_gpu *= 5\n",
        "x_gpu *= x_gpu\n",
        "x_gpu += x_gpu\n",
        "cp.cuda.Stream.null.synchronize()\n",
        "e = time.time()\n",
        "print('gpu:', e - s, 's')"
      ],
      "metadata": {
        "colab": {
          "base_uri": "https://localhost:8080/"
        },
        "id": "rE_Dr4PRFZDA",
        "outputId": "c6d540f2-dd7b-4443-d312-8da5ff0fde3f"
      },
      "execution_count": 7,
      "outputs": [
        {
          "output_type": "stream",
          "name": "stdout",
          "text": [
            "cpu: 0.21698570251464844 s\n",
            "gpu: 0.0190889835357666 s\n"
          ]
        }
      ]
    }
  ]
}