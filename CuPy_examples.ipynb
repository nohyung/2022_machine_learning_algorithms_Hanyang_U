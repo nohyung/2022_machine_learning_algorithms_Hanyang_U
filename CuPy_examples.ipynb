{
  "nbformat": 4,
  "nbformat_minor": 0,
  "metadata": {
    "colab": {
      "name": "CuPy_examples.ipynb",
      "provenance": [],
      "collapsed_sections": [],
      "authorship_tag": "ABX9TyNAhyOa4sD+6POGZ/5MAkKv",
      "include_colab_link": true
    },
    "kernelspec": {
      "name": "python3",
      "display_name": "Python 3"
    },
    "language_info": {
      "name": "python"
    },
    "accelerator": "GPU"
  },
  "cells": [
    {
      "cell_type": "markdown",
      "metadata": {
        "id": "view-in-github",
        "colab_type": "text"
      },
      "source": [
        "<a href=\"https://colab.research.google.com/github/nohyung/2022_machine_learning_algorithms_Hanyang_U/blob/main/CuPy_examples.ipynb\" target=\"_parent\"><img src=\"https://colab.research.google.com/assets/colab-badge.svg\" alt=\"Open In Colab\"/></a>"
      ]
    },
    {
      "cell_type": "code",
      "execution_count": 1,
      "metadata": {
        "id": "mEk4s6CmFADx"
      },
      "outputs": [],
      "source": [
        "import numpy as np\n",
        "import cupy as cp\n",
        "import time"
      ]
    },
    {
      "cell_type": "code",
      "source": [
        "n = 10**4\n",
        "### Numpy and CPU\n",
        "s = time.time()\n",
        "x_cpu = np.ones((n,n))\n",
        "e = time.time()\n",
        "print('cpu:', e - s, 's')\n",
        "### CuPy and GPU\n",
        "s = time.time()\n",
        "x_gpu = cp.ones((n,n))\n",
        "cp.cuda.Stream.null.synchronize()\n",
        "e = time.time()\n",
        "print('gpu:', e - s, 's')"
      ],
      "metadata": {
        "colab": {
          "base_uri": "https://localhost:8080/"
        },
        "id": "FSigvpKtFHpg",
        "outputId": "11d0af86-9813-4a1c-9863-e0c6f228a66b"
      },
      "execution_count": 2,
      "outputs": [
        {
          "output_type": "stream",
          "name": "stdout",
          "text": [
            "cpu: 0.19317960739135742 s\n",
            "gpu: 0.4631493091583252 s\n"
          ]
        }
      ]
    },
    {
      "cell_type": "code",
      "source": [
        "### Numpy and CPU\n",
        "s = time.time()\n",
        "x_cpu *= 5\n",
        "e = time.time()\n",
        "print('cpu:', e - s, 's')\n",
        "### CuPy and GPU\n",
        "s = time.time()\n",
        "x_gpu *= 5\n",
        "cp.cuda.Stream.null.synchronize()\n",
        "e = time.time()\n",
        "print('gpu:', e - s, 's')"
      ],
      "metadata": {
        "colab": {
          "base_uri": "https://localhost:8080/"
        },
        "id": "aNauX6geFLmJ",
        "outputId": "7437e51c-a469-443a-94ed-cac39f04915a"
      },
      "execution_count": 3,
      "outputs": [
        {
          "output_type": "stream",
          "name": "stdout",
          "text": [
            "cpu: 0.07462096214294434 s\n",
            "gpu: 0.00883173942565918 s\n"
          ]
        }
      ]
    },
    {
      "cell_type": "code",
      "source": [
        "### Numpy and CPU\n",
        "s = time.time()\n",
        "x_cpu *= 5\n",
        "x_cpu *= x_cpu\n",
        "x_cpu += x_cpu\n",
        "e = time.time()\n",
        "print('cpu:', e - s, 's')\n",
        "### CuPy and GPU\n",
        "s = time.time()\n",
        "x_gpu *= 5\n",
        "x_gpu *= x_gpu\n",
        "x_gpu += x_gpu\n",
        "cp.cuda.Stream.null.synchronize()\n",
        "e = time.time()\n",
        "print('gpu:', e - s, 's')"
      ],
      "metadata": {
        "colab": {
          "base_uri": "https://localhost:8080/"
        },
        "id": "rE_Dr4PRFZDA",
        "outputId": "5674facb-9d98-4266-8aed-9b6ccf591fa1"
      },
      "execution_count": 4,
      "outputs": [
        {
          "output_type": "stream",
          "name": "stdout",
          "text": [
            "cpu: 0.22418665885925293 s\n",
            "gpu: 0.01918935775756836 s\n"
          ]
        }
      ]
    }
  ]
}